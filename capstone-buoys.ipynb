{
 "cells": [
  {
   "cell_type": "markdown",
   "metadata": {},
   "source": [
    "# Analyzing data from the National Bouy System"
   ]
  },
  {
   "cell_type": "markdown",
   "metadata": {
    "collapsed": true
   },
   "source": [
    "## Background\n",
    "\n",
    "The National Data Buoys Data center publish oceanographic data from their buoys on their web. Bouys send up their measurements every hour and the data is published as a spreadsheet in the NOAA web site.\n",
    "\n",
    "We want to collect the data for any, or many, bouys, clean it up, and analyze it to make a plot.\n",
    "\n",
    "## Challenges\n",
    "\n",
    "- Get the data from the web and read it into our Python notebook.\n",
    "- Clean up the data, which sometimes has missing measurements.\n",
    "- Choose the bouys we want to analyze using their ID numbers.\n",
    "- Run our analysis (we will just make a plot).\n",
    "- Save our code as a script or module for reusing it later."
   ]
  },
  {
   "cell_type": "markdown",
   "metadata": {},
   "source": [
    "## References \n",
    "\n",
    "- National Data Buoy Center: http://www.ndbc.noaa.gov/\n",
    "- Data for Station 44255 - NE Burgeo Bank: http://www.ndbc.noaa.gov/station_realtime.php?station=44255\n",
    "- How a buoy get an ID: http://www.ndbc.noaa.gov/staid.shtml\n",
    "- All the station IDs: http://www.ndbc.noaa.gov/to_station.shtml"
   ]
  },
  {
   "cell_type": "code",
   "execution_count": 1,
   "metadata": {
    "collapsed": false
   },
   "outputs": [],
   "source": [
    "url = 'http://www.ndbc.noaa.gov/data/realtime2/44255.txt'"
   ]
  },
  {
   "cell_type": "code",
   "execution_count": 3,
   "metadata": {
    "collapsed": true
   },
   "outputs": [],
   "source": [
    "import requests"
   ]
  },
  {
   "cell_type": "code",
   "execution_count": 5,
   "metadata": {
    "collapsed": true
   },
   "outputs": [
    {
     "name": "stdout",
     "output_type": "stream",
     "text": [
      "Help on package requests:\n",
      "\n",
      "NAME\n",
      "    requests\n",
      "\n",
      "FILE\n",
      "    c:\\users\\john\\anaconda\\lib\\site-packages\\requests\\__init__.py\n",
      "\n",
      "DESCRIPTION\n",
      "    requests HTTP library\n",
      "    ~~~~~~~~~~~~~~~~~~~~~\n",
      "    \n",
      "    Requests is an HTTP library, written in Python, for human beings. Basic GET\n",
      "    usage:\n",
      "    \n",
      "       >>> import requests\n",
      "       >>> r = requests.get('https://www.python.org')\n",
      "       >>> r.status_code\n",
      "       200\n",
      "       >>> 'Python is a programming language' in r.content\n",
      "       True\n",
      "    \n",
      "    ... or POST:\n",
      "    \n",
      "       >>> payload = dict(key1='value1', key2='value2')\n",
      "       >>> r = requests.post('http://httpbin.org/post', data=payload)\n",
      "       >>> print(r.text)\n",
      "       {\n",
      "         ...\n",
      "         \"form\": {\n",
      "           \"key2\": \"value2\",\n",
      "           \"key1\": \"value1\"\n",
      "         },\n",
      "         ...\n",
      "       }\n",
      "    \n",
      "    The other HTTP methods are supported - see `requests.api`. Full documentation\n",
      "    is at <http://python-requests.org>.\n",
      "    \n",
      "    :copyright: (c) 2015 by Kenneth Reitz.\n",
      "    :license: Apache 2.0, see LICENSE for more details.\n",
      "\n",
      "PACKAGE CONTENTS\n",
      "    adapters\n",
      "    api\n",
      "    auth\n",
      "    certs\n",
      "    compat\n",
      "    cookies\n",
      "    exceptions\n",
      "    hooks\n",
      "    models\n",
      "    packages (package)\n",
      "    sessions\n",
      "    status_codes\n",
      "    structures\n",
      "    utils\n",
      "\n",
      "DATA\n",
      "    __author__ = 'Kenneth Reitz'\n",
      "    __build__ = 132864\n",
      "    __copyright__ = 'Copyright 2015 Kenneth Reitz'\n",
      "    __license__ = 'Apache 2.0'\n",
      "    __title__ = 'requests'\n",
      "    __version__ = '2.7.0'\n",
      "    codes = <lookup 'status_codes'>\n",
      "\n",
      "VERSION\n",
      "    2.7.0\n",
      "\n",
      "AUTHOR\n",
      "    Kenneth Reitz\n",
      "\n",
      "\n"
     ]
    }
   ],
   "source": [
    "help(requests)"
   ]
  },
  {
   "cell_type": "code",
   "execution_count": 6,
   "metadata": {
    "collapsed": true
   },
   "outputs": [],
   "source": [
    "response = requests.get(url)"
   ]
  },
  {
   "cell_type": "code",
   "execution_count": 12,
   "metadata": {
    "collapsed": false
   },
   "outputs": [
    {
     "name": "stdout",
     "output_type": "stream",
     "text": [
      "#YY  MM DD hh mm WDIR WSPD GST  WVHT   DPD   APD MWD   PRES  ATMP  WTMP  DEWP  VIS PTDY  TIDE\n",
      "#yr  mo dy hr mn degT m/s  m/s     m   sec   sec degT   hPa  degC  degC  degC  nmi  hPa    ft\n",
      "2015 08 28 1\n"
     ]
    },
    {
     "data": {
      "text/plain": [
       "unicode"
      ]
     },
     "execution_count": 12,
     "metadata": {},
     "output_type": "execute_result"
    }
   ],
   "source": [
    "print response.text[:200]\n",
    "type(response.text)"
   ]
  },
  {
   "cell_type": "code",
   "execution_count": 15,
   "metadata": {
    "collapsed": false
   },
   "outputs": [
    {
     "name": "stdout",
     "output_type": "stream",
     "text": [
      "<StringIO.StringIO instance at 0x0000000003D2D688>\n"
     ]
    }
   ],
   "source": [
    "import StringIO\n",
    "data_as_string = StringIO.StringIO(response.text)\n",
    "print data_as_string"
   ]
  },
  {
   "cell_type": "code",
   "execution_count": 18,
   "metadata": {
    "collapsed": true
   },
   "outputs": [],
   "source": [
    "import pandas as pd\n",
    "# pandas is a built in excel-oid processor"
   ]
  },
  {
   "cell_type": "code",
   "execution_count": 24,
   "metadata": {
    "collapsed": false
   },
   "outputs": [],
   "source": [
    "data = pd.read_csv(StringIO.StringIO(response.text),\n",
    "                   delim_whitespace=True, \n",
    "                   skiprows=[1,2], \n",
    "                   usecols=[0,1,2,3,6,12])"
   ]
  },
  {
   "cell_type": "code",
   "execution_count": 25,
   "metadata": {
    "collapsed": true
   },
   "outputs": [
    {
     "name": "stdout",
     "output_type": "stream",
     "text": [
      "       #YY  MM  DD  hh  WSPD    PRES\n",
      "0     2015   8  28  18     8  1010.3\n",
      "1     2015   8  28  17     8  1010.3\n",
      "2     2015   8  28  16     9  1010.1\n",
      "3     2015   8  28  15     7  1010.1\n",
      "4     2015   8  28  14     5  1009.9\n",
      "5     2015   8  28  13     7  1009.3\n",
      "6     2015   8  28  12     6  1009.1\n",
      "7     2015   8  28  11     5  1008.7\n",
      "8     2015   8  28  10     5  1008.8\n",
      "9     2015   8  28   9     7  1008.4\n",
      "10    2015   8  28   8     9  1008.3\n",
      "11    2015   8  28   7    11  1008.9\n",
      "12    2015   8  28   6     8  1010.2\n",
      "13    2015   8  28   5    10  1011.8\n",
      "14    2015   8  28   4     9  1013.8\n",
      "15    2015   8  28   3    10  1014.2\n",
      "16    2015   8  28   2    11  1014.5\n",
      "17    2015   8  28   1     8  1016.3\n",
      "18    2015   8  28   0     8  1016.9\n",
      "19    2015   8  27  23     7  1017.1\n",
      "20    2015   8  27  22     8  1017.0\n",
      "21    2015   8  27  21     7  1017.4\n",
      "22    2015   8  27  20     8  1017.9\n",
      "23    2015   8  27  19     6  1018.4\n",
      "24    2015   8  27  18     6  1019.2\n",
      "25    2015   8  27  17     6  1019.5\n",
      "26    2015   8  27  16     6  1020.0\n",
      "27    2015   8  27  15     6  1020.2\n",
      "28    2015   8  27  14     6  1020.9\n",
      "29    2015   8  27  13     6  1020.8\n",
      "...    ...  ..  ..  ..   ...     ...\n",
      "1062  2015   7  15   5     5  1011.5\n",
      "1063  2015   7  15   4     5  1012.1\n",
      "1064  2015   7  15   3     5  1012.9\n",
      "1065  2015   7  15   2     7  1013.5\n",
      "1066  2015   7  15   1     5  1013.5\n",
      "1067  2015   7  15   0     4  1013.6\n",
      "1068  2015   7  14  23     3  1013.9\n",
      "1069  2015   7  14  22     3  1014.1\n",
      "1070  2015   7  14  21     2  1014.7\n",
      "1071  2015   7  14  20     1  1015.1\n",
      "1072  2015   7  14  19     2  1015.2\n",
      "1073  2015   7  14  18     2  1015.4\n",
      "1074  2015   7  14  17     2  1015.4\n",
      "1075  2015   7  14  16     2  1015.6\n",
      "1076  2015   7  14  15     0  1015.3\n",
      "1077  2015   7  14  14     0  1015.5\n",
      "1078  2015   7  14  13     1  1015.6\n",
      "1079  2015   7  14  12     1  1014.9\n",
      "1080  2015   7  14  11     1  1014.9\n",
      "1081  2015   7  14  10     1  1014.3\n",
      "1082  2015   7  14   9     3  1014.1\n",
      "1083  2015   7  14   8     4  1014.1\n",
      "1084  2015   7  14   7     4  1013.8\n",
      "1085  2015   7  14   6     4  1013.7\n",
      "1086  2015   7  14   5     5  1013.5\n",
      "1087  2015   7  14   4     5  1013.4\n",
      "1088  2015   7  14   3     6  1013.0\n",
      "1089  2015   7  14   2     6  1012.6\n",
      "1090  2015   7  14   1     7  1012.4\n",
      "1091  2015   7  14   0     4  1012.1\n",
      "\n",
      "[1092 rows x 6 columns]\n"
     ]
    }
   ],
   "source": [
    "print data"
   ]
  },
  {
   "cell_type": "code",
   "execution_count": 31,
   "metadata": {
    "collapsed": false
   },
   "outputs": [],
   "source": [
    "from numpy import nan\n",
    "data = data.replace('MM',nan)\n",
    "data = data.dropna(axis=0)"
   ]
  },
  {
   "cell_type": "code",
   "execution_count": 32,
   "metadata": {
    "collapsed": false
   },
   "outputs": [
    {
     "data": {
      "text/plain": [
       "<matplotlib.axes._subplots.AxesSubplot at 0xc3b45f8>"
      ]
     },
     "execution_count": 32,
     "metadata": {},
     "output_type": "execute_result"
    },
    {
     "data": {
      "image/png": "[encoded data removed]",
      "text/plain": [
       "<matplotlib.figure.Figure at 0xc390f98>"
      ]
     },
     "metadata": {},
     "output_type": "display_data"
    }
   ],
   "source": [
    "%matplotlib inline\n",
    "import matplotlib.pyplot as plt\n",
    "data.PRES.plot()\n"
   ]
  }
 ],
 "metadata": {
  "kernelspec": {
   "display_name": "Python 2",
   "language": "python",
   "name": "python2"
  },
  "language_info": {
   "codemirror_mode": {
    "name": "ipython",
    "version": 2
   },
   "file_extension": ".py",
   "mimetype": "text/x-python",
   "name": "python",
   "nbconvert_exporter": "python",
   "pygments_lexer": "ipython2",
   "version": "2.7.10"
  }
 },
 "nbformat": 4,
 "nbformat_minor": 0
}
